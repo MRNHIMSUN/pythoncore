{
 "cells": [
  {
   "cell_type": "code",
   "execution_count": null,
   "metadata": {},
   "outputs": [],
   "source": []
  },
  {
   "cell_type": "markdown",
   "metadata": {},
   "source": [
    "1. nhập từ bàn phím chuỗi bất kỳ\n",
    "7. kiểm tra chuỗi có bao nhiêu ký tự"
   ]
  },
  {
   "cell_type": "code",
   "execution_count": 7,
   "metadata": {},
   "outputs": [
    {
     "name": "stdout",
     "output_type": "stream",
     "text": [
      "nhập giá trị chuỗi:\n",
      "aa  aa ss eee\n",
      "độ dài của chuỗi:  13\n"
     ]
    }
   ],
   "source": [
    "print ('nhập giá trị chuỗi:')\n",
    "input_str= input()\n",
    "len_str= len(input_str)\n",
    "if len_str < 20:\n",
    "    print (input_str)\n",
    "    print ( 'độ dài của chuỗi: ',len_str)\n",
    "else:\n",
    "     print ('Chuỗi quá dài: nhập lại chuỗi')\n"
   ]
  },
  {
   "cell_type": "markdown",
   "metadata": {},
   "source": [
    "2. Kiểm tra xem chuỗi có ký tự số hay không ?"
   ]
  },
  {
   "cell_type": "code",
   "execution_count": null,
   "metadata": {},
   "outputs": [],
   "source": [
    "value_str=0 \n",
    "value_str1=-1                  # đặt 1 biến đếm ký tự số\n",
    "for i in input_str:        # tách các ký tự trong chuỗi thành từng ký tự đơn\n",
    "    if i.isdigit():        # so sánh các ký tự đơn xem ký tự nào là số\n",
    "        value_str=value_str+1                  # đếm các ký tự số\n",
    "if value_str>0:\n",
    "    print( 'Chuỗi có ký tự số')\n",
    "    print( 'Số ký tự số trong chuỗi:',value_str)\n",
    "else:\n",
    "    print(' chuỗi không có ký tự số')\n",
    "for i in input_str:\n",
    "    value_str1=value_str1+1\n",
    "    if i.isdigit(): \n",
    "     print( 'ký tự số \"',i,'\"','vị trí số trong chuỗi:',value_str1)"
   ]
  },
  {
   "cell_type": "markdown",
   "metadata": {},
   "source": [
    "3. Kiểm tra chuỗi có ký tự in hoa không?"
   ]
  },
  {
   "cell_type": "code",
   "execution_count": null,
   "metadata": {},
   "outputs": [],
   "source": [
    "value_str2=0 \n",
    "value_str3=-1          \n",
    "for i in input_str:       \n",
    "    if i.isupper():       \n",
    "        value_str2=value_str2+1                  \n",
    "if value_str2>0:\n",
    "    print( 'Chuỗi có ký tự in hoa')\n",
    "    print( 'Số ký tự in hoa trong chuỗi:',value_str2)\n",
    "else:\n",
    "    print(' chuỗi không có ký tự in hoa')\n",
    "for i in input_str:\n",
    "    value_str3=value_str3+1\n",
    "    if i.isupper(): \n",
    "     print( 'Ký tự in hoa là: \"',i,'\"\\nVị trí ký tự trong chuỗi:',value_str3)"
   ]
  },
  {
   "cell_type": "markdown",
   "metadata": {},
   "source": [
    "4. Nhập từ bàn phím 1 ký tự bất kỳ. Kiểm tra xem trong chuỗi có ký tự đó không?\n"
   ]
  },
  {
   "cell_type": "code",
   "execution_count": null,
   "metadata": {},
   "outputs": [],
   "source": [
    "print('nhập 1 ký tự bất kỳ')\n",
    "input_str1= input()\n",
    "print(input_str1)\n",
    "len_str= len(input_str1)\n",
    "if len_str <= 1:\n",
    "    value_str4=0 \n",
    "    value_str5=-1\n",
    "    value_str6=[]          \n",
    "    for i in input_str:       \n",
    "       if i==input_str1:   \n",
    "         value_str4=value_str4+1                  \n",
    "    if value_str4>0:\n",
    "      print( 'chuỗi có ký tự đã nhập')\n",
    "    else:\n",
    "      print('không có ký tự đã nhập trong chuỗi')\n",
    "else:\n",
    "     print ('Chuỗi quá dài: nhập lại chuỗi')\n",
    "for i in input_str:\n",
    "    value_str5=value_str5+1\n",
    "    if i== input_str1:  \n",
    "      value_str6= value_str6+[value_str5]\n",
    "print( 'vị trí ký tự trong chuỗi:',value_str6)\n",
    "\n"
   ]
  },
  {
   "cell_type": "markdown",
   "metadata": {},
   "source": [
    "5. Nhập 1 chuỗi b bất kỳ \n",
    "a kiểm tra xem chuỗi b có nằm trong chuỗi đã nhập không\n",
    "b kiểm tra xem chuỗi b ngắn hơn hay dài hơn chuỗi a\n",
    "c kiểm tra xem b có lớn hơn a hay không\n"
   ]
  },
  {
   "cell_type": "code",
   "execution_count": null,
   "metadata": {},
   "outputs": [],
   "source": [
    "print('nhập chuỗi b bất kỳ')\n",
    "input_str2= input()\n",
    "print('chuỗi b đã nhập là:',input_str2)"
   ]
  },
  {
   "cell_type": "markdown",
   "metadata": {},
   "source": [
    " a. Nhập chuỗi bất kỳ kiểm tra xem chuỗi có nằm trong trong chuỗi đã nhập không"
   ]
  },
  {
   "cell_type": "code",
   "execution_count": null,
   "metadata": {},
   "outputs": [],
   "source": [
    "if input_str2 in input_str:\n",
    "  print('chuỗi b có trong chuỗi đã nhập:')\n",
    "  if len(input_str2) > len(input_str):\n",
    "    print('Chuỗi b dài hơn chuỗi đã nhập')\n",
    "  elif len(input_str2)==len(input_str):\n",
    "    print('Chuỗi b bằng chuỗi đã nhập')\n",
    "  else :\n",
    "    print('Chuỗi b ngắn hơn chuỗi đã nhập')\n",
    "else :\n",
    "  print('chuỗi đã nhập không có trong chuỗi cho trước:')\n",
    "  if len(input_str2)>len(input_str):\n",
    "   print('Chuỗi b dài hơn chuỗi đã nhập')\n",
    "  elif len(input_str2)==len(input_str):\n",
    "   print('Chuỗi b bằng chuỗi đã nhập')\n",
    "  else:\n",
    "   print('Chuỗi b dài hơn chuỗi đã nhập')\n",
    "\n"
   ]
  },
  {
   "cell_type": "code",
   "execution_count": null,
   "metadata": {},
   "outputs": [],
   "source": [
    "import re\n",
    "\n",
    "def isfloat(string):\n",
    "    pattern = '^[-+]?[0-9]*\\.?[0-9]+([eE][-+]?[0-9]+)?$'\n",
    "    return bool(re.match(pattern, string))\n",
    "print(isfloat(input_str) )\n",
    "if isfloat(input_str) and isfloat(input_str2):\n",
    "    if float(input_str)> float(input_str2):\n",
    "        print('giá trị chuỗi b nhỏ hơn giá trị chuỗi đã nhập')\n",
    "    elif float(input_str)== float(input_str2):\n",
    "        print(' giá trị chuỗi b bằng giá trị chuỗi đã nhập')\n",
    "    else:\n",
    "        print('giá trị chuỗi b lớn hơn giá trị chuỗi đã nhập')\n",
    "else: \n",
    "    print (' kiểm tra lại 2 chuỗi nhập vào có phải 1 số không :')\n",
    " "
   ]
  },
  {
   "cell_type": "markdown",
   "metadata": {},
   "source": [
    "6. Kiểm tra xem chuỗi có tính đối xứng hay không"
   ]
  },
  {
   "cell_type": "code",
   "execution_count": null,
   "metadata": {},
   "outputs": [],
   "source": [
    "print('nhập vào 1 chuỗi ')\n",
    "input_str3=input()\n",
    "print(input_str3)\n",
    "value_str7=input_str3[::-1]\n",
    "if value_str7==input_str3:\n",
    "    print('chuỗi có tính chất đối xứng')\n",
    "else :\n",
    "    print('chuỗi không có tính chất đối xứng')"
   ]
  },
  {
   "cell_type": "markdown",
   "metadata": {},
   "source": [
    "8. Cắt tất cả các dấu space ở cuối câu"
   ]
  },
  {
   "cell_type": "code",
   "execution_count": 4,
   "metadata": {},
   "outputs": [
    {
     "name": "stdout",
     "output_type": "stream",
     "text": [
      "chuỗi sau khi xóa space cuối câu là: asdx\n"
     ]
    }
   ],
   "source": [
    "print('chuỗi sau khi xóa space cuối câu là:', input_str.rstrip())"
   ]
  },
  {
   "cell_type": "markdown",
   "metadata": {},
   "source": [
    "9. Cắt tất cả các dấu space ở cuối câu"
   ]
  },
  {
   "cell_type": "code",
   "execution_count": 5,
   "metadata": {},
   "outputs": [
    {
     "name": "stdout",
     "output_type": "stream",
     "text": [
      "chuỗi sau khi xóa space đầu  câu là: asdx \n"
     ]
    }
   ],
   "source": [
    "print('chuỗi sau khi xóa space đầu  câu là:', input_str.lstrip())"
   ]
  },
  {
   "cell_type": "markdown",
   "metadata": {},
   "source": [
    "10. đảm bảo rằng giữa 2 từ bất kỳ  của chuỗi đã nhập chỉ có 1 dấu cách giữa các chuỗi \n"
   ]
  },
  {
   "cell_type": "code",
   "execution_count": null,
   "metadata": {},
   "outputs": [],
   "source": [
    "print(' '.join(input_str.split()))\n",
    "print(input_str)"
   ]
  },
  {
   "cell_type": "code",
   "execution_count": null,
   "metadata": {},
   "outputs": [],
   "source": []
  }
 ],
 "metadata": {
  "kernelspec": {
   "display_name": "Python 3.10.9 ('base')",
   "language": "python",
   "name": "python3"
  },
  "language_info": {
   "codemirror_mode": {
    "name": "ipython",
    "version": 3
   },
   "file_extension": ".py",
   "mimetype": "text/x-python",
   "name": "python",
   "nbconvert_exporter": "python",
   "pygments_lexer": "ipython3",
   "version": "3.10.9"
  },
  "orig_nbformat": 4,
  "vscode": {
   "interpreter": {
    "hash": "2043299c89c8cd0b4d1a6f5cf4529bd58e6a4e0fe3181a25e0d328c821cdc5c5"
   }
  }
 },
 "nbformat": 4,
 "nbformat_minor": 2
}
